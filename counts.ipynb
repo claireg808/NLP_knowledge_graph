{
 "cells": [
  {
   "cell_type": "code",
   "execution_count": null,
   "metadata": {
    "vscode": {
     "languageId": "plaintext"
    }
   },
   "outputs": [],
   "source": [
    "import os\n",
    "import pandas as pd\n",
    "import json\n",
    "from collections import defaultdict"
   ]
  },
  {
   "cell_type": "code",
   "execution_count": null,
   "metadata": {
    "vscode": {
     "languageId": "plaintext"
    }
   },
   "outputs": [],
   "source": [
    "extract_data(file):\n",
    "    relations = file.get('relations', {})\n",
    "\n",
    "    for idx, relation_data in relations.items():\n",
    "        head = relation_data['head']\n",
    "        tail = relation_data['tail']\n",
    "        head_type = relation_data['head_type']\n",
    "        tail_type = relation_data['tail_type']\n",
    "        relation_name = relation_data['relation']\n",
    "\n",
    "        # add count for head/ tail entity, and add label if not added previously\n",
    "        entity_counts[head]['head_count'] += 1\n",
    "        if head_type not in entity_counts[head]['labels']:\n",
    "            entity_counts[head]['labels'].add(head_type)\n",
    "        entity_counts[tail]['tail_count'] += 1\n",
    "        if head_type not in entity_counts[tail]['labels']:\n",
    "            entity_counts[tail]['labels'].add(tail_type)\n",
    "        \n",
    "        # count relation occurrence\n",
    "        relation_counts[relation_name] += 1"
   ]
  },
  {
   "cell_type": "code",
   "execution_count": null,
   "metadata": {
    "vscode": {
     "languageId": "plaintext"
    }
   },
   "outputs": [],
   "source": [
    "# read relation JSON files\n",
    "def walk_directory(relations_output):\n",
    "    # parent directory\n",
    "    for root, _, files in os.walk(relations_output):\n",
    "        # entity files\n",
    "        for file in files:\n",
    "            # samples\n",
    "            if file.endswith('_relations.json'):\n",
    "                path = Path(os.path.join(root, file))\n",
    "                with open(path, 'r') as file:\n",
    "                    extract_data(file)\n",
    "\n",
    "entity_folder_name = 'platinum_relations'\n",
    "walk_directory(entity_folder_name)"
   ]
  },
  {
   "cell_type": "code",
   "execution_count": null,
   "metadata": {
    "vscode": {
     "languageId": "plaintext"
    }
   },
   "outputs": [],
   "source": [
    "entities_data = []\n",
    "for entity_name, counts in entity_counts.items():\n",
    "    entities_data.append({\n",
    "        'entity_name': entity_name,\n",
    "        'head_count': counts['head_count'],\n",
    "        'tail_count': counts['tail_count'],\n",
    "        'labels': list(counts['labels'])  # Convert set to list for DataFrame\n",
    "    })\n",
    "\n",
    "pd.set_option('display.max_rows', None)\n",
    "entities_df = pd.DataFrame(entities_data)\n",
    "entities_df.to_csv('entity_counts.csv', index=False)\n",
    "\n",
    "print(entities_df)"
   ]
  },
  {
   "cell_type": "code",
   "execution_count": null,
   "metadata": {
    "vscode": {
     "languageId": "plaintext"
    }
   },
   "outputs": [],
   "source": [
    "relations_data = []\n",
    "for relation_name, count in relation_counts.items():\n",
    "    relations_data.append({\n",
    "        'relation_name': relation_name,\n",
    "        'relation_count': count\n",
    "    })\n",
    "\n",
    "pd.set_option('display.max_rows', None)\n",
    "relations_df = pd.DataFrame(relations_data)\n",
    "relations_df.to_csv('relation_counts.csv', index=False)\n",
    "\n",
    "print(relations_df)"
   ]
  }
 ],
 "metadata": {
  "language_info": {
   "name": "python"
  }
 },
 "nbformat": 4,
 "nbformat_minor": 2
}
